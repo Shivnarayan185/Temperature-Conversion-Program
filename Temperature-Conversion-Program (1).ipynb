{
 "cells": [
  {
   "cell_type": "code",
   "execution_count": 1,
   "id": "d0139ef7-c31d-440e-9390-38beb5a65654",
   "metadata": {},
   "outputs": [
    {
     "name": "stdout",
     "output_type": "stream",
     "text": [
      "=== Temperature Converter ===\n"
     ]
    },
    {
     "name": "stdin",
     "output_type": "stream",
     "text": [
      "Enter the temperature value:  25\n",
      "Enter the unit of temperature (Celsius/Fahrenheit/Kelvin):  Celsius\n"
     ]
    },
    {
     "name": "stdout",
     "output_type": "stream",
     "text": [
      "\n",
      "25.0° Celsius = 77.00° Fahrenheit\n",
      "25.0° Celsius = 298.15 Kelvin\n"
     ]
    }
   ],
   "source": [
    "def celsius_to_fahrenheit(celsius):\n",
    "    return (celsius * 9/5) + 32\n",
    "\n",
    "def celsius_to_kelvin(celsius):\n",
    "    return celsius + 273.15\n",
    "\n",
    "def fahrenheit_to_celsius(fahrenheit):\n",
    "    return (fahrenheit - 32) * 5/9\n",
    "\n",
    "def fahrenheit_to_kelvin(fahrenheit):\n",
    "    return (fahrenheit - 32) * 5/9 + 273.15\n",
    "\n",
    "def kelvin_to_celsius(kelvin):\n",
    "    return kelvin - 273.15\n",
    "\n",
    "def kelvin_to_fahrenheit(kelvin):\n",
    "    return (kelvin - 273.15) * 9/5 + 32\n",
    "\n",
    "def convert_temperature(value, unit):\n",
    "    unit = unit.lower()\n",
    "    if unit == \"celsius\":\n",
    "        f = celsius_to_fahrenheit(value)\n",
    "        k = celsius_to_kelvin(value)\n",
    "        print(f\"\\n{value}° Celsius = {f:.2f}° Fahrenheit\")\n",
    "        print(f\"{value}° Celsius = {k:.2f} Kelvin\")\n",
    "\n",
    "    elif unit == \"fahrenheit\":\n",
    "        c = fahrenheit_to_celsius(value)\n",
    "        k = fahrenheit_to_kelvin(value)\n",
    "        print(f\"\\n{value}° Fahrenheit = {c:.2f}° Celsius\")\n",
    "        print(f\"{value}° Fahrenheit = {k:.2f} Kelvin\")\n",
    "\n",
    "    elif unit == \"kelvin\":\n",
    "        c = kelvin_to_celsius(value)\n",
    "        f = kelvin_to_fahrenheit(value)\n",
    "        print(f\"\\n{value} Kelvin = {c:.2f}° Celsius\")\n",
    "        print(f\"{value} Kelvin = {f:.2f}° Fahrenheit\")\n",
    "    else:\n",
    "        print(\"Invalid unit entered. Please choose Celsius, Fahrenheit, or Kelvin.\")\n",
    "\n",
    "# Main program\n",
    "print(\"=== Temperature Converter ===\")\n",
    "try:\n",
    "    temp = float(input(\"Enter the temperature value: \"))\n",
    "    unit = input(\"Enter the unit of temperature (Celsius/Fahrenheit/Kelvin): \")\n",
    "    convert_temperature(temp, unit)\n",
    "except ValueError:\n",
    "    print(\"Invalid input. Please enter a numeric temperature.\")"
   ]
  },
  {
   "cell_type": "code",
   "execution_count": null,
   "id": "be911b42-da19-40f9-bd34-7837026a8634",
   "metadata": {},
   "outputs": [],
   "source": []
  }
 ],
 "metadata": {
  "kernelspec": {
   "display_name": "Python [conda env:base] *",
   "language": "python",
   "name": "conda-base-py"
  },
  "language_info": {
   "codemirror_mode": {
    "name": "ipython",
    "version": 3
   },
   "file_extension": ".py",
   "mimetype": "text/x-python",
   "name": "python",
   "nbconvert_exporter": "python",
   "pygments_lexer": "ipython3",
   "version": "3.12.7"
  }
 },
 "nbformat": 4,
 "nbformat_minor": 5
}
